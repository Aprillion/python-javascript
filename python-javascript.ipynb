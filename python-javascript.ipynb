{
 "cells": [
  {
   "cell_type": "markdown",
   "metadata": {},
   "source": [
    "# Python and JavaScript, side by side\n",
    "\n",
    "This Jupyter Notebook is intended for a live presentation to Pythonistas.\n",
    "* published on [<big>peter.hozak.info/python-javascript</big>](https://peter.hozak.info/python-javascript/)\n",
    "* source code in [github.com/Aprillion/python-javascript](https://github.com/Aprillion/python-javascript)\n",
    "* questions also possible via github issues\n",
    "* contacts: [hozak.info](https://peter.hozak.info)\n",
    "\n",
    "## Intro\n",
    "\n",
    "Working in the functional programming style feels very similar in both Python and JavaScript. Differences are mostly in the syntax and in the problems being solved (think Selenium). In contrast, Java, C++, TypeScript, or Python full of Abstract Base Classes have a different mindset, despite syntax similarities with JS.\n",
    "\n",
    "Installation of CLI interpreters is similar:\n",
    "* official download from [python.org](https://www.python.org/downloads/) vs [nodejs.org](https://nodejs.org/en/)\n",
    "* `conda install python=3.8` vs `conda install nodejs=14`\n",
    "* `brew install python@3.8` vs `brew install node@14`\n",
    "* `pyenv install 3.8` vs `nvm install 14`\n",
    "* `docker pull nikolaik/python-nodejs` 2 in 1 😀\n",
    "\n",
    "Support of online tools like [repl.it](https://repl.it/languages/), cloud environments like [AWS lambdas](https://docs.aws.amazon.com/lambda/latest/dg/lambda-runtimes.html) and many other environments or containers is mostly the same.\n",
    "\n",
    "JavaScript is also available natively in browsers, mostly consistent between browsers that are released these days. No such luck if you have to support older browsers (think Python 2 in corporate environments). In the browser, JS code has access to a lot of WebAPIs, e.g. `document.getElementById()`, which are NOT part of the language itself. Due to the fact that new browsers need to support old web pages written in old JS, the language is full of historical accidents that cannot be removed from the spec, but no one is forcing developers to use the deprecated features in new projects (think COBOL in corporate environments).\n",
    "\n",
    "Following is a selection of topics that I found useful, interesting, or new. It's not an introduction to either language nor a complete guide of anything.\n",
    "\n",
    "## Hello, world!"
   ]
  },
  {
   "cell_type": "code",
   "execution_count": 1,
   "metadata": {
    "scrolled": true
   },
   "outputs": [
    {
     "name": "stdout",
     "output_type": "stream",
     "text": [
      "Hello, world!\n"
     ]
    },
    {
     "name": "stderr",
     "output_type": "stream",
     "text": [
      "Hello, stderr!\n"
     ]
    }
   ],
   "source": [
    "%%python\n",
    "from sys import stderr\n",
    "\n",
    "print('Hello, world!')\n",
    "print('Hello, stderr!', file=stderr)"
   ]
  },
  {
   "cell_type": "code",
   "execution_count": 3,
   "metadata": {},
   "outputs": [
    {
     "name": "stdout",
     "output_type": "stream",
     "text": [
      "Hello, world!\n"
     ]
    },
    {
     "name": "stderr",
     "output_type": "stream",
     "text": [
      "Hello, stderr!\n"
     ]
    }
   ],
   "source": [
    "%%script node\n",
    "\n",
    "\n",
    "console.log('Hello, world!')\n",
    "console.error('Hello, stderr!')"
   ]
  },
  {
   "cell_type": "markdown",
   "metadata": {},
   "source": [
    "## Numbers"
   ]
  },
  {
   "cell_type": "code",
   "execution_count": 3,
   "metadata": {},
   "outputs": [
    {
     "name": "stdout",
     "output_type": "stream",
     "text": [
      "7\n",
      "3\n",
      "0.30000000000000004\n",
      "3.141592653589793\n",
      "(1+2j)\n"
     ]
    }
   ],
   "source": [
    "%%python\n",
    "log = print\n",
    "\n",
    "log(1 + 2 * 3)\n",
    "log(1 + int('2'))\n",
    "log(0.1 + 0.2)\n",
    "\n",
    "import math\n",
    "log(math.pi)\n",
    "log(1 + 2j)"
   ]
  },
  {
   "cell_type": "code",
   "execution_count": 4,
   "metadata": {
    "scrolled": false
   },
   "outputs": [
    {
     "name": "stdout",
     "output_type": "stream",
     "text": [
      "7\n",
      "3\n",
      "0.30000000000000004\n",
      "3.141592653589793\n"
     ]
    }
   ],
   "source": [
    "%%script node\n",
    "log = console.log\n",
    "\n",
    "log(1 + 2 * 3)\n",
    "log(1 + Number('2'))\n",
    "log(0.1 + 0.2)\n",
    "\n",
    "\n",
    "log(Math.PI)\n",
    "// no complex numbers without external library"
   ]
  },
  {
   "cell_type": "markdown",
   "metadata": {},
   "source": [
    "## Strings"
   ]
  },
  {
   "cell_type": "code",
   "execution_count": 5,
   "metadata": {},
   "outputs": [
    {
     "name": "stdout",
     "output_type": "stream",
     "text": [
      "abc\n",
      "ABC\n",
      "3\n",
      "aaa\n",
      "a\n",
      "c\n",
      "fg\n",
      "ijk\n",
      "nop\n",
      "rs\n"
     ]
    }
   ],
   "source": [
    "%%python\n",
    "log = print\n",
    "\n",
    "log('a' + 'b' 'c')\n",
    "log('abc'.upper())\n",
    "log(len('abc'))\n",
    "log('a' * 3)\n",
    "\n",
    "log('abcd'[0])\n",
    "log('abcd'[-2])\n",
    "\n",
    "log('efgh'[1:3])\n",
    "log('ijkl'[:-1])\n",
    "log('mnop'[1:])\n",
    "log('qrst'[1:][:2])"
   ]
  },
  {
   "cell_type": "code",
   "execution_count": 6,
   "metadata": {},
   "outputs": [
    {
     "name": "stdout",
     "output_type": "stream",
     "text": [
      "abc\n",
      "ABC\n",
      "3\n",
      "aaa\n",
      "a\n",
      "c\n",
      "fg\n",
      "ijk\n",
      "nop\n",
      "rs\n"
     ]
    }
   ],
   "source": [
    "%%script node\n",
    "log = console.log\n",
    "\n",
    "log('a' + 'b' + 'c')\n",
    "log('abc'.toUpperCase())\n",
    "log('abc'.length)\n",
    "log('a'.repeat(3))\n",
    "\n",
    "log('abc'[0])\n",
    "log('abcd'['abcd'.length - 2])\n",
    "\n",
    "log('efgh'.slice(1, 3))\n",
    "log('ijkl'.slice(0, -1))\n",
    "log('mnop'.slice(1))\n",
    "log('qrst'.substr(1, 2))"
   ]
  },
  {
   "cell_type": "code",
   "execution_count": 7,
   "metadata": {},
   "outputs": [
    {
     "name": "stdout",
     "output_type": "stream",
     "text": [
      "value was 2\n",
      "a=1\n"
     ]
    }
   ],
   "source": [
    "%%python\n",
    "log = print\n",
    "\n",
    "a = 1\n",
    "log(f'value was {a + 1}')\n",
    "log(f'{a=}')"
   ]
  },
  {
   "cell_type": "code",
   "execution_count": 7,
   "metadata": {},
   "outputs": [
    {
     "name": "stdout",
     "output_type": "stream",
     "text": [
      "value was 2\n",
      "{ a: 1 }\n"
     ]
    }
   ],
   "source": [
    "%%script node\n",
    "log = console.log\n",
    "\n",
    "let a = 1\n",
    "log(`value was ${a + 1}`)\n",
    "log({a})"
   ]
  },
  {
   "cell_type": "code",
   "execution_count": 9,
   "metadata": {},
   "outputs": [
    {
     "name": "stdout",
     "output_type": "stream",
     "text": [
      "None\n",
      "<re.Match object; span=(1, 2), match='b'>\n",
      "['b', 'b']\n"
     ]
    }
   ],
   "source": [
    "%%python\n",
    "log = print\n",
    "import re\n",
    "\n",
    "log(re.match(r'b', 'abcb'))\n",
    "log(re.search(r'b', 'abcb'))\n",
    "log(re.findall(r'b', 'abcb'))"
   ]
  },
  {
   "cell_type": "code",
   "execution_count": 34,
   "metadata": {
    "language": "javascript"
   },
   "outputs": [
    {
     "name": "stdout",
     "output_type": "stream",
     "text": [
      "null\n",
      "[ 'b', index: 1, input: 'abcb', groups: undefined ]\n",
      "[ 'b', 'b' ]\n"
     ]
    }
   ],
   "source": [
    "%%script node\n",
    "log = console.log\n",
    "\n",
    "\n",
    "log('abcb'.match(/^b/))\n",
    "log('abcb'.match(/b/))\n",
    "log('abcb'.match(/b/g))"
   ]
  },
  {
   "cell_type": "markdown",
   "metadata": {},
   "source": [
    "## Lists / Arrays"
   ]
  },
  {
   "cell_type": "code",
   "execution_count": 11,
   "metadata": {},
   "outputs": [
    {
     "name": "stdout",
     "output_type": "stream",
     "text": [
      "[1, 2, 3, 4, 5]\n",
      "[1, 2][3, 4]5\n",
      "[1, 2, 'mutable']\n"
     ]
    }
   ],
   "source": [
    "%%python\n",
    "log = print\n",
    "\n",
    "a, b = [1, 2], [3, 4]\n",
    "\n",
    "log(a + b + [5])\n",
    "log(str(a) + str(b) + str(5))\n",
    "\n",
    "second_a = a\n",
    "second_a.append('mutable')\n",
    "\n",
    "copied_a = a.copy()\n",
    "copied_a.append('different')\n",
    "\n",
    "log(a)"
   ]
  },
  {
   "cell_type": "code",
   "execution_count": 11,
   "metadata": {},
   "outputs": [
    {
     "name": "stdout",
     "output_type": "stream",
     "text": [
      "[ 1, 2, 3, 4, 5 ]\n",
      "1,23,45\n",
      "[ 1, 2, 'mutable' ]\n"
     ]
    }
   ],
   "source": [
    "%%script node\n",
    "log = console.log\n",
    "\n",
    "let [a, b] = [[1, 2], [3, 4]]\n",
    "\n",
    "log([...a, ...b, 5])\n",
    "log(a + b + 5)\n",
    "\n",
    "let secondA = a\n",
    "secondA.push('mutable')\n",
    "\n",
    "let copiedA = [...a]\n",
    "copiedA.push('different')\n",
    "\n",
    "log(a)"
   ]
  },
  {
   "cell_type": "code",
   "execution_count": 13,
   "metadata": {},
   "outputs": [
    {
     "name": "stdout",
     "output_type": "stream",
     "text": [
      "['a', 'b', 'c']\n",
      "['A', 'B', 'C']\n",
      "[2, 3, 4]\n",
      "[1, 3]\n",
      "1;2;3\n"
     ]
    }
   ],
   "source": [
    "%%python\n",
    "log = print\n",
    "\n",
    "log( list('abc') )\n",
    "\n",
    "log( [c.upper() for c in 'abc'] )\n",
    "log( [i + 1 for i in [1,2,3]] )\n",
    "log( [i for i in [1,2,3] if i % 2] )\n",
    "\n",
    "log( ';'.join(str(i) for i in [1,2,3]))"
   ]
  },
  {
   "cell_type": "code",
   "execution_count": 14,
   "metadata": {},
   "outputs": [
    {
     "name": "stdout",
     "output_type": "stream",
     "text": [
      "[ 'a', 'b', 'c' ]\n",
      "[ 'A', 'B', 'C' ]\n",
      "[ 2, 3, 4 ]\n",
      "[ 1, 3 ]\n",
      "1;2;3\n"
     ]
    }
   ],
   "source": [
    "%%script node\n",
    "log = console.log\n",
    "\n",
    "log( Array.from('abc') )\n",
    "\n",
    "log( Array.from('abc').map(c => c.toUpperCase()) )\n",
    "log( [1,2,3].map(i => i + 1) )\n",
    "log( [1,2,3].filter(i => i % 2) )\n",
    "\n",
    "log( [1,2,3].join(';') )"
   ]
  },
  {
   "cell_type": "markdown",
   "metadata": {},
   "source": [
    "## Dictionaries / Objects"
   ]
  },
  {
   "cell_type": "code",
   "execution_count": 15,
   "metadata": {},
   "outputs": [
    {
     "name": "stdout",
     "output_type": "stream",
     "text": [
      "{'b': 2, 'c': 'b'}\n",
      "2\n",
      "2\n",
      "None\n",
      "default\n"
     ]
    }
   ],
   "source": [
    "%%python\n",
    "log = print\n",
    "\n",
    "a = {'b': 2, 'c': 'b'}\n",
    "\n",
    "log(a)\n",
    "log(a['b'])\n",
    "log(a[a['c']])\n",
    "log(a.get('f', None))\n",
    "log(a.get('f', {}).get('g', 'default'))"
   ]
  },
  {
   "cell_type": "code",
   "execution_count": 16,
   "metadata": {},
   "outputs": [
    {
     "name": "stdout",
     "output_type": "stream",
     "text": [
      "{ b: 2, c: 'b' }\n",
      "2\n",
      "2\n",
      "undefined\n",
      "default\n"
     ]
    }
   ],
   "source": [
    "%%script node\n",
    "log = console.log\n",
    "\n",
    "let a = {b: 2, c: 'b'}\n",
    "\n",
    "log(a)\n",
    "log(a.b)\n",
    "log(a[a.c])\n",
    "log(a.f)\n",
    "log(a.f?.g ?? 'default')"
   ]
  },
  {
   "cell_type": "code",
   "execution_count": 17,
   "metadata": {},
   "outputs": [
    {
     "name": "stdout",
     "output_type": "stream",
     "text": [
      "{'a': {'inner': 1}}\n",
      "{'inner': 1, 2: 3}\n"
     ]
    }
   ],
   "source": [
    "%%python\n",
    "log = print\n",
    "\n",
    "a = {'inner': 1}\n",
    "b = {'a': a}\n",
    "log(b)\n",
    "\n",
    "b['a'][2] = 3\n",
    "log(a)"
   ]
  },
  {
   "cell_type": "code",
   "execution_count": 18,
   "metadata": {},
   "outputs": [
    {
     "name": "stdout",
     "output_type": "stream",
     "text": [
      "{ a: { inner: 1 } }\n",
      "{ '2': 3, inner: 1 }\n"
     ]
    }
   ],
   "source": [
    "%%script node\n",
    "log = console.log\n",
    "\n",
    "let a = {'inner': 1}\n",
    "let b = {a}\n",
    "log(b)\n",
    "\n",
    "b.a[2] = 3\n",
    "log(a)"
   ]
  },
  {
   "cell_type": "markdown",
   "metadata": {},
   "source": [
    "## If conditions"
   ]
  },
  {
   "cell_type": "code",
   "execution_count": 25,
   "metadata": {},
   "outputs": [
    {
     "name": "stdout",
     "output_type": "stream",
     "text": [
      "yes\n",
      "no\n"
     ]
    }
   ],
   "source": [
    "%%python\n",
    "log = print\n",
    "\n",
    "a, b, c, d = 1, 2, 2, False\n",
    "\n",
    "if a == b and a == c or not d:\n",
    "    log('yes')\n",
    "else:\n",
    "    log('no')\n",
    "\n",
    "log('yes' if a == b else 'no')"
   ]
  },
  {
   "cell_type": "code",
   "execution_count": 26,
   "metadata": {
    "scrolled": true
   },
   "outputs": [
    {
     "name": "stdout",
     "output_type": "stream",
     "text": [
      "yes\n",
      "no\n"
     ]
    }
   ],
   "source": [
    "%%script node\n",
    "log = console.log\n",
    "\n",
    "let a = 1, b = 2, c = 2, d = false\n",
    "\n",
    "if (a === b && a === c || !d) {\n",
    "    log('yes')\n",
    "} else {\n",
    "    log('no')\n",
    "}\n",
    "log(a == b ? 'yes' : 'no')"
   ]
  },
  {
   "cell_type": "markdown",
   "metadata": {},
   "source": [
    "## For loops"
   ]
  },
  {
   "cell_type": "code",
   "execution_count": 46,
   "metadata": {},
   "outputs": [
    {
     "name": "stdout",
     "output_type": "stream",
     "text": [
      "2\n",
      "4\n",
      "a..b.\n"
     ]
    }
   ],
   "source": [
    "%%python\n",
    "log = print\n",
    "\n",
    "for i in range(2, 6, 2):\n",
    "    log(i)\n",
    "\n",
    "out = ''\n",
    "for item in ['a', 1, 'b']:\n",
    "    if type(item) == str: out += item\n",
    "    out += '.'\n",
    "\n",
    "log(out)"
   ]
  },
  {
   "cell_type": "code",
   "execution_count": 47,
   "metadata": {},
   "outputs": [
    {
     "name": "stdout",
     "output_type": "stream",
     "text": [
      "2\n",
      "4\n",
      "a..b.\n"
     ]
    }
   ],
   "source": [
    "%%script node\n",
    "log = console.log\n",
    "\n",
    "for (let i = 2; i < 6; i += 2) {\n",
    "    log(i)\n",
    "}\n",
    "let out = ''\n",
    "for (let item of ['a', 1, 'b']) {\n",
    "    if (typeof item === 'string') out += item\n",
    "    out += '.'\n",
    "}\n",
    "log(out)"
   ]
  },
  {
   "cell_type": "markdown",
   "metadata": {},
   "source": [
    "## Functions, variables, and scope"
   ]
  },
  {
   "cell_type": "code",
   "execution_count": 8,
   "metadata": {},
   "outputs": [],
   "source": [
    "%%python\n",
    "log = print\n",
    "\n"
   ]
  },
  {
   "cell_type": "code",
   "execution_count": 9,
   "metadata": {},
   "outputs": [],
   "source": [
    "%%script node\n",
    "log = console.log\n",
    "\n"
   ]
  },
  {
   "cell_type": "markdown",
   "metadata": {},
   "source": [
    "## Generators"
   ]
  },
  {
   "cell_type": "code",
   "execution_count": 8,
   "metadata": {},
   "outputs": [],
   "source": [
    "%%python\n",
    "log = print\n",
    "\n"
   ]
  },
  {
   "cell_type": "code",
   "execution_count": 9,
   "metadata": {},
   "outputs": [],
   "source": [
    "%%script node\n",
    "log = console.log\n",
    "\n"
   ]
  },
  {
   "cell_type": "markdown",
   "metadata": {},
   "source": [
    "## Async, await"
   ]
  },
  {
   "cell_type": "code",
   "execution_count": 8,
   "metadata": {},
   "outputs": [],
   "source": [
    "%%python\n",
    "log = print\n",
    "\n"
   ]
  },
  {
   "cell_type": "code",
   "execution_count": 9,
   "metadata": {},
   "outputs": [],
   "source": [
    "%%script node\n",
    "log = console.log\n",
    "\n"
   ]
  },
  {
   "cell_type": "markdown",
   "metadata": {},
   "source": [
    "## Dependency management"
   ]
  },
  {
   "cell_type": "code",
   "execution_count": 8,
   "metadata": {},
   "outputs": [],
   "source": [
    "%%sh\n",
    "\n",
    "\n"
   ]
  },
  {
   "cell_type": "code",
   "execution_count": 9,
   "metadata": {},
   "outputs": [],
   "source": [
    "%%sh\n",
    "\n",
    "\n"
   ]
  },
  {
   "cell_type": "markdown",
   "metadata": {},
   "source": [
    "---\n",
    "## _CSS formatting of this Notebook_"
   ]
  },
  {
   "cell_type": "code",
   "execution_count": 19,
   "metadata": {},
   "outputs": [
    {
     "data": {
      "text/html": [
       "<style>\n",
       "@media (min-width: 1000px) {\n",
       "  #notebook-container {\n",
       "    display: grid;\n",
       "    grid-template-columns: 1fr 1fr;\n",
       "  }\n",
       "}\n",
       "\n",
       "#notebook-container {\n",
       "    width: 100%;\n",
       "    max-width: 1200px;\n",
       "    padding-left: 0;\n",
       "}\n",
       "\n",
       "div.text_cell {\n",
       "    grid-column: 1 / span 2;\n",
       "    margin-bottom: 1em;\n",
       "}\n",
       "\n",
       ".prompt {\n",
       "    min-width: 60px;\n",
       "    font-size: 10px;\n",
       "}\n",
       "\n",
       "div.input_area {\n",
       "    background:\n",
       "     linear-gradient(to bottom, #eef 3em, #f7f7f7 3em);\n",
       "}\n",
       "</style>\n"
      ],
      "text/plain": [
       "<IPython.core.display.HTML object>"
      ]
     },
     "metadata": {},
     "output_type": "display_data"
    }
   ],
   "source": [
    "%%html\n",
    "<style>\n",
    "@media (min-width: 1000px) {\n",
    "  #notebook-container {\n",
    "    display: grid;\n",
    "    grid-template-columns: 1fr 1fr;\n",
    "  }\n",
    "}\n",
    "\n",
    "#notebook-container {\n",
    "    width: 100%;\n",
    "    max-width: 1200px;\n",
    "    padding-left: 0;\n",
    "}\n",
    "\n",
    "div.text_cell {\n",
    "    grid-column: 1 / span 2;\n",
    "    margin-bottom: 1em;\n",
    "}\n",
    "\n",
    ".prompt {\n",
    "    min-width: 60px;\n",
    "    font-size: 10px;\n",
    "}\n",
    "\n",
    "div.input_area {\n",
    "    background:\n",
    "     linear-gradient(to bottom, #eef 3em, #f7f7f7 3em);\n",
    "}\n",
    "</style>"
   ]
  },
  {
   "cell_type": "code",
   "execution_count": 2,
   "metadata": {},
   "outputs": [
    {
     "data": {
      "application/javascript": [
       "\n",
       "require(['notebook/js/codecell'], (codecell) => {\n",
       "  codecell.CodeCell.options_default.highlight_modes\n",
       "    .magic_javascript = \n",
       "      {reg: [/^%%(?:js|javascript|script node)/]}\n",
       "  Jupyter.notebook.events.one('kernel_ready.Kernel', () => {\n",
       "    Jupyter.notebook.get_cells().map((cell) => {\n",
       "      if (cell.cell_type == 'code'){\n",
       "          cell.auto_highlight()\n",
       "      }})\n",
       "    })\n",
       "})\n"
      ],
      "text/plain": [
       "<IPython.core.display.Javascript object>"
      ]
     },
     "metadata": {},
     "output_type": "display_data"
    }
   ],
   "source": [
    "%%js\n",
    "\n",
    "require(['notebook/js/codecell'], (codecell) => {\n",
    "  codecell.CodeCell.options_default.highlight_modes\n",
    "    .magic_javascript = \n",
    "      {reg: [/^%%(?:js|javascript|script node)/]}\n",
    "  Jupyter.notebook.events.one('kernel_ready.Kernel', () => {\n",
    "    Jupyter.notebook.get_cells().map((cell) => {\n",
    "      if (cell.cell_type == 'code'){\n",
    "          cell.auto_highlight()\n",
    "      }})\n",
    "    })\n",
    "})"
   ]
  }
 ],
 "metadata": {
  "kernelspec": {
   "display_name": "Python 3",
   "language": "python",
   "name": "python3"
  },
  "language_info": {
   "codemirror_mode": {
    "name": "ipython",
    "version": 3
   },
   "file_extension": ".py",
   "mimetype": "text/x-python",
   "name": "python",
   "nbconvert_exporter": "python",
   "pygments_lexer": "ipython3",
   "version": "3.8.1"
  }
 },
 "nbformat": 4,
 "nbformat_minor": 4
}
